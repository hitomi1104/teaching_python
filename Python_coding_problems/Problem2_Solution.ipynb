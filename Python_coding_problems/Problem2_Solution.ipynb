{
 "cells": [
  {
   "cell_type": "markdown",
   "id": "b4c0ef48",
   "metadata": {},
   "source": [
    "1. Create a function that returns the sum of the two lowest positive numbers given an array of minimum 4 positive integers. No floats or non-positive integers will be passed.\n",
    "\n",
    "For example, when an array is passed like [19, 5, 42, 2, 77], the output should be 7.\n",
    "\n",
    "[10, 343445353, 3453445, 3453545353453] should return 3453455."
   ]
  },
  {
   "cell_type": "code",
   "execution_count": 2,
   "id": "79ad29ee",
   "metadata": {},
   "outputs": [],
   "source": [
    "def sum_two_smallest_numbers(numbers):\n",
    "    #your code here\n",
    "    s = set(numbers)    \n",
    "    return sorted(s)[0] + sorted(s)[1]"
   ]
  },
  {
   "cell_type": "markdown",
   "id": "94885bf3",
   "metadata": {},
   "source": [
    "2. Story\n",
    "Ben has a very simple idea to make some profit: he buys something and sells it again. Of course, this wouldn't give him any profit at all if he was simply to buy and sell it at the same price. Instead, he's going to buy it for the lowest possible price and sell it at the highest.\n",
    "\n",
    "Task\n",
    "Write a function that returns both the minimum and maximum number of the given list/array.\n",
    "\n",
    "Examples\n",
    "min_max([1,2,3,4,5])   == [1,5]\n",
    "min_max([2334454,5])   == [5, 2334454]\n",
    "min_max([1])           == [1, 1]"
   ]
  },
  {
   "cell_type": "code",
   "execution_count": 1,
   "id": "9d2a3c05",
   "metadata": {},
   "outputs": [],
   "source": [
    "def sbbbdgdbgd(a):\n",
    "  y=[min(a),max(a)]\n",
    "  return y"
   ]
  },
  {
   "cell_type": "code",
   "execution_count": 5,
   "id": "e14a6c90",
   "metadata": {},
   "outputs": [
    {
     "data": {
      "text/plain": [
       "[1, 999999999]"
      ]
     },
     "execution_count": 5,
     "metadata": {},
     "output_type": "execute_result"
    }
   ],
   "source": [
    "sbbbdgdbgd([1,9999,999999999])"
   ]
  },
  {
   "cell_type": "code",
   "execution_count": null,
   "id": "872908a8",
   "metadata": {},
   "outputs": [],
   "source": []
  },
  {
   "cell_type": "code",
   "execution_count": null,
   "id": "ea7472dd",
   "metadata": {},
   "outputs": [],
   "source": []
  },
  {
   "cell_type": "code",
   "execution_count": null,
   "id": "ff9144d1",
   "metadata": {},
   "outputs": [],
   "source": [
    "dfdfv c "
   ]
  },
  {
   "cell_type": "code",
   "execution_count": null,
   "id": "17eeaeed",
   "metadata": {},
   "outputs": [],
   "source": []
  },
  {
   "cell_type": "code",
   "execution_count": null,
   "id": "75a2a42b",
   "metadata": {},
   "outputs": [],
   "source": []
  },
  {
   "cell_type": "code",
   "execution_count": null,
   "id": "57392669",
   "metadata": {},
   "outputs": [],
   "source": []
  },
  {
   "cell_type": "code",
   "execution_count": null,
   "id": "416e4763",
   "metadata": {},
   "outputs": [],
   "source": []
  },
  {
   "cell_type": "code",
   "execution_count": null,
   "id": "b5f1f1de",
   "metadata": {},
   "outputs": [],
   "source": []
  },
  {
   "cell_type": "code",
   "execution_count": null,
   "id": "f9c76255",
   "metadata": {},
   "outputs": [],
   "source": []
  },
  {
   "cell_type": "code",
   "execution_count": null,
   "id": "fee67696",
   "metadata": {},
   "outputs": [],
   "source": []
  },
  {
   "cell_type": "code",
   "execution_count": null,
   "id": "73b06eb9",
   "metadata": {},
   "outputs": [],
   "source": []
  },
  {
   "cell_type": "code",
   "execution_count": 3,
   "id": "1852546f",
   "metadata": {},
   "outputs": [],
   "source": [
    "def min_max(lst):\n",
    "    s = []\n",
    "    s.append(min(list(lst)))\n",
    "    s.append(max(list(lst)))\n",
    "    return s"
   ]
  },
  {
   "cell_type": "code",
   "execution_count": 4,
   "id": "045ba1da",
   "metadata": {},
   "outputs": [],
   "source": [
    "def min_max(lst):\n",
    "  lst.sort()\n",
    "  tempor = [lst[0],lst[-1]]\n",
    "  return tempor"
   ]
  },
  {
   "cell_type": "code",
   "execution_count": 5,
   "id": "98a2794a",
   "metadata": {},
   "outputs": [],
   "source": [
    "min_max = lambda l: [min(l), max(l)]"
   ]
  },
  {
   "cell_type": "code",
   "execution_count": 6,
   "id": "e63ef424",
   "metadata": {},
   "outputs": [],
   "source": [
    "def min_max(lst):\n",
    "    return [sorted(lst)[0],sorted(lst)[-1]]"
   ]
  },
  {
   "cell_type": "markdown",
   "id": "76e24ee3",
   "metadata": {},
   "source": [
    "Make a program that filters a list of strings and returns a list with only your friends name in it.\n",
    "\n",
    "If a name has exactly 4 letters in it, you can be sure that it has to be a friend of yours! Otherwise, you can be sure he's not...\n",
    "\n",
    "Ex: Input = [\"Ryan\", \"Kieran\", \"Jason\", \"Yous\"], Output = [\"Ryan\", \"Yous\"]\n",
    "\n",
    "i.e.\n",
    "\n",
    "friend [\"Ryan\", \"Kieran\", \"Mark\"] `shouldBe` [\"Ryan\", \"Mark\"]\n",
    "Note: keep the original order of the names in the output.1"
   ]
  },
  {
   "cell_type": "code",
   "execution_count": 7,
   "id": "3563f7fc",
   "metadata": {},
   "outputs": [],
   "source": [
    "x = ['Ryan', '123', 'Cool Man']\n",
    "\n",
    "def friend(x):\n",
    "    #Code\n",
    "    new_friends = []\n",
    "    for i in x:\n",
    "        if len(i) == 4:\n",
    "            new_friends.append(i)\n",
    "    return new_friends"
   ]
  },
  {
   "cell_type": "code",
   "execution_count": 8,
   "id": "48defa8c",
   "metadata": {},
   "outputs": [],
   "source": [
    "def friend(x):\n",
    "    return [f for f in x if len(f) == 4]"
   ]
  },
  {
   "cell_type": "markdown",
   "id": "2689ce10",
   "metadata": {},
   "source": [
    "136. Single Number\n",
    "\n",
    "Given a non-empty array of integers nums, every element appears twice except for one. Find that single one.\n",
    "\n",
    "You must implement a solution with a linear runtime complexity and use only constant extra space.\n",
    "\n",
    " \n",
    "\n",
    "Example 1:\n",
    "\n",
    "Input: nums = [2,2,1]\n",
    "Output: 1\n",
    "Example 2:\n",
    "\n",
    "Input: nums = [4,1,2,1,2]\n",
    "Output: 4\n",
    "Example 3:\n",
    "\n",
    "Input: nums = [1]\n",
    "Output: 1\n",
    " \n",
    "\n",
    "Constraints:\n",
    "\n",
    "1 <= nums.length <= 3 * 104\n",
    "-3 * 104 <= nums[i] <= 3 * 104\n",
    "Each element in the array appears twice except for one element which appears only once."
   ]
  },
  {
   "cell_type": "code",
   "execution_count": null,
   "id": "affbc294",
   "metadata": {},
   "outputs": [],
   "source": []
  },
  {
   "cell_type": "markdown",
   "id": "9110477c",
   "metadata": {},
   "source": [
    "An isogram is a word that has no repeating letters, consecutive or non-consecutive. Implement a function that determines whether a string that contains only letters is an isogram. Assume the empty string is an isogram. Ignore letter case.\n",
    "\n",
    "Example: (Input --> Output)\n",
    "\n",
    "\"Dermatoglyphics\" --> true\n",
    "\"aba\" --> false\n",
    "\"moOse\" --> false (ignore letter case)"
   ]
  },
  {
   "cell_type": "code",
   "execution_count": null,
   "id": "1e4f640c",
   "metadata": {},
   "outputs": [],
   "source": []
  }
 ],
 "metadata": {
  "kernelspec": {
   "display_name": "Python 3",
   "language": "python",
   "name": "python3"
  },
  "language_info": {
   "codemirror_mode": {
    "name": "ipython",
    "version": 3
   },
   "file_extension": ".py",
   "mimetype": "text/x-python",
   "name": "python",
   "nbconvert_exporter": "python",
   "pygments_lexer": "ipython3",
   "version": "3.8.8"
  },
  "toc": {
   "base_numbering": 1,
   "nav_menu": {},
   "number_sections": true,
   "sideBar": true,
   "skip_h1_title": false,
   "title_cell": "Table of Contents",
   "title_sidebar": "Contents",
   "toc_cell": false,
   "toc_position": {},
   "toc_section_display": true,
   "toc_window_display": false
  }
 },
 "nbformat": 4,
 "nbformat_minor": 5
}
