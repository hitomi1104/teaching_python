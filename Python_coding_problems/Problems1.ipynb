{
 "cells": [
  {
   "cell_type": "markdown",
   "id": "56d4e4e8",
   "metadata": {},
   "source": [
    "1. write a function to compute the area of a triangle"
   ]
  },
  {
   "cell_type": "code",
   "execution_count": 1,
   "id": "bf306bb1",
   "metadata": {},
   "outputs": [
    {
     "data": {
      "text/plain": [
       "3.0"
      ]
     },
     "execution_count": 1,
     "metadata": {},
     "output_type": "execute_result"
    }
   ],
   "source": [
    "def area_triangle(height, base):\n",
    "    area = (height*base)/2\n",
    "    return area\n",
    "\n",
    "area_triangle(2,3)"
   ]
  },
  {
   "cell_type": "markdown",
   "id": "466210ac",
   "metadata": {},
   "source": [
    "2. Use Math library to import pi to write a function to compute the area of a circle"
   ]
  },
  {
   "cell_type": "code",
   "execution_count": 2,
   "id": "f04468ad",
   "metadata": {},
   "outputs": [],
   "source": [
    "import math\n",
    "def area_circle(r):\n",
    "    area = r*r*math.pi\n",
    "    return area"
   ]
  },
  {
   "cell_type": "code",
   "execution_count": 3,
   "id": "3289c216",
   "metadata": {},
   "outputs": [
    {
     "data": {
      "text/plain": [
       "28.274333882308138"
      ]
     },
     "execution_count": 3,
     "metadata": {},
     "output_type": "execute_result"
    }
   ],
   "source": [
    "area_circle(3)"
   ]
  },
  {
   "cell_type": "markdown",
   "id": "968cda16",
   "metadata": {},
   "source": [
    "3. Write a function that takes a list of numbers (amounts in euros), and returns them converted to dollars. Use your answer to the previous question in your answer to this question.\n",
    "* _Example:_ `to_dollar_list([1, 10, 100]) == [1.1, 11.0, 110.0]`\n",
    "* _Note:_ You may get some decimal weirdness here."
   ]
  },
  {
   "cell_type": "code",
   "execution_count": null,
   "id": "ef554e9d",
   "metadata": {},
   "outputs": [],
   "source": []
  },
  {
   "cell_type": "markdown",
   "id": "a0f7d2b9",
   "metadata": {},
   "source": [
    "4. Write a function that takes a number (a person's height) and returns \"Tall enough\" if they are at least 5 feet (60 inches) or \"Too short\" if they are below 5 feet.\n",
    "* _Example:_ `is_tall(72) == 'Tall enough'`\n",
    "* _Example:_ `is_tall(52) == 'Too short'`"
   ]
  },
  {
   "cell_type": "code",
   "execution_count": null,
   "id": "7bb8f5f8",
   "metadata": {},
   "outputs": [],
   "source": []
  },
  {
   "cell_type": "markdown",
   "id": "7dde07a5",
   "metadata": {},
   "source": [
    "5. Write a function that takes in a numeric grade (0 to 100) and returns the letter grade (no pluses or minuses). In a traditional rubric, that would be as follows:\n",
    "\n",
    "* 90 or above = A\n",
    "* 80 - 89 = B\n",
    "* 70 - 79 = C\n",
    "* 60 - 69 = D\n",
    "* 59 or below = F\n",
    "    \n",
    "    \n",
    "* _Example:_ `letter_grade(85) == 'B'`"
   ]
  },
  {
   "cell_type": "code",
   "execution_count": null,
   "id": "5f3ad3b1",
   "metadata": {},
   "outputs": [],
   "source": []
  },
  {
   "cell_type": "markdown",
   "id": "6e2959dc",
   "metadata": {},
   "source": [
    "6.Write a function that takes in a string and returns the number of vowels in that string. (No, y is not a vowel).\n",
    "* _Example:_ `vowel_count('Hitomi') == 3`"
   ]
  },
  {
   "cell_type": "code",
   "execution_count": null,
   "id": "3f78efe3",
   "metadata": {},
   "outputs": [],
   "source": []
  },
  {
   "cell_type": "markdown",
   "id": "4694c6fa",
   "metadata": {},
   "source": [
    "7. Using list-comprehension to print out onlt even numbers"
   ]
  },
  {
   "cell_type": "code",
   "execution_count": null,
   "id": "d8dfe77b",
   "metadata": {},
   "outputs": [],
   "source": [
    "numbers = [1, 2, 3, 4, 5, 6, 7, 8, 9, 10]"
   ]
  },
  {
   "cell_type": "code",
   "execution_count": null,
   "id": "6039f3b0",
   "metadata": {},
   "outputs": [],
   "source": [
    "even_num = []\n",
    "for i in numbers:\n",
    "    if i%2 ==0:\n",
    "        even_num.append(i)\n",
    "        \n",
    "print(even_num)\n",
    "        "
   ]
  },
  {
   "cell_type": "markdown",
   "id": "fc00b05c",
   "metadata": {},
   "source": [
    "8. Write a function that takes in a numeric grade (0 to 100) and returns the letter grade (no pluses or minuses). In a traditional rubric, that would be as follows:\n",
    "\n",
    "* 90 or above = A\n",
    "* 80 - 89 = B\n",
    "* 70 - 79 = C\n",
    "* 60 - 69 = D\n",
    "* 59 or below = F\n",
    "    \n",
    "    \n",
    "* _Example:_ `letter_grade(85) == 'B'`"
   ]
  },
  {
   "cell_type": "code",
   "execution_count": null,
   "id": "c196332f",
   "metadata": {},
   "outputs": [],
   "source": []
  },
  {
   "cell_type": "code",
   "execution_count": null,
   "id": "cea745a0",
   "metadata": {},
   "outputs": [],
   "source": []
  },
  {
   "cell_type": "markdown",
   "id": "17f232c0",
   "metadata": {},
   "source": [
    "Write a function that takes in a string (likely multiple words long) and returns that string with each word reversed, but with the words in the same order.\n",
    "* _Example:_ `letter_reverser('Data') == 'ataD'`"
   ]
  },
  {
   "cell_type": "code",
   "execution_count": 5,
   "id": "701c5636",
   "metadata": {},
   "outputs": [
    {
     "data": {
      "text/plain": [
       "'4321'"
      ]
     },
     "execution_count": 5,
     "metadata": {},
     "output_type": "execute_result"
    }
   ],
   "source": [
    "s = \"1234\"\n",
    "s[::-1]"
   ]
  },
  {
   "cell_type": "markdown",
   "id": "bb3ea9d0",
   "metadata": {},
   "source": [
    "Iterate through lists at the same time, concatenating strings from each\n"
   ]
  },
  {
   "cell_type": "code",
   "execution_count": null,
   "id": "c7cc0066",
   "metadata": {},
   "outputs": [],
   "source": [
    "strings_1 = ['alpha', 'bravo', 'charlie', 'delta']\n",
    "strings_2 = ['echo', 'foxtrot', 'golf', 'hotel']"
   ]
  },
  {
   "cell_type": "code",
   "execution_count": null,
   "id": "7e989d2e",
   "metadata": {},
   "outputs": [],
   "source": []
  },
  {
   "cell_type": "markdown",
   "id": "f84a8e31",
   "metadata": {},
   "source": [
    "### Python LIbraries"
   ]
  },
  {
   "cell_type": "markdown",
   "id": "f24a2153",
   "metadata": {},
   "source": [
    "Numpy"
   ]
  },
  {
   "cell_type": "code",
   "execution_count": null,
   "id": "948dd9d1",
   "metadata": {},
   "outputs": [],
   "source": [
    "import numpy as np\n",
    "import pandas as pd"
   ]
  },
  {
   "cell_type": "code",
   "execution_count": null,
   "id": "a22a05c0",
   "metadata": {},
   "outputs": [],
   "source": [
    "step = 0.5\n",
    "A = np.arange(1,10,step)\n",
    "\n",
    "type(A)"
   ]
  },
  {
   "cell_type": "code",
   "execution_count": null,
   "id": "2e79cd58",
   "metadata": {},
   "outputs": [],
   "source": [
    "A = np.arange(25).reshape((5,5))\n",
    "A"
   ]
  },
  {
   "cell_type": "code",
   "execution_count": null,
   "id": "c13bb34b",
   "metadata": {},
   "outputs": [],
   "source": [
    "A = np.ones(25).reshape((5,5))\n",
    "A"
   ]
  },
  {
   "cell_type": "code",
   "execution_count": null,
   "id": "98ad3aef",
   "metadata": {},
   "outputs": [],
   "source": [
    "A = np.zeros(25).reshape((5,5))\n",
    "A"
   ]
  },
  {
   "cell_type": "markdown",
   "id": "3b03c314",
   "metadata": {},
   "source": [
    "Pandas"
   ]
  },
  {
   "cell_type": "code",
   "execution_count": null,
   "id": "568f5171",
   "metadata": {},
   "outputs": [],
   "source": [
    "df = pd.read_excel(\"Athletes.xlsx\")"
   ]
  },
  {
   "cell_type": "code",
   "execution_count": null,
   "id": "382a372a",
   "metadata": {},
   "outputs": [],
   "source": [
    "df.head()"
   ]
  },
  {
   "cell_type": "code",
   "execution_count": null,
   "id": "b6e11bf1",
   "metadata": {},
   "outputs": [],
   "source": [
    "df['NOC'].unique()"
   ]
  },
  {
   "cell_type": "code",
   "execution_count": null,
   "id": "a6a0b222",
   "metadata": {},
   "outputs": [],
   "source": []
  },
  {
   "cell_type": "code",
   "execution_count": 6,
   "id": "89bbce19",
   "metadata": {},
   "outputs": [
    {
     "data": {
      "text/plain": [
       "0"
      ]
     },
     "execution_count": 6,
     "metadata": {},
     "output_type": "execute_result"
    }
   ],
   "source": [
    "s.count(\"ssasdfg\")"
   ]
  },
  {
   "cell_type": "code",
   "execution_count": null,
   "id": "2f466d21",
   "metadata": {},
   "outputs": [],
   "source": []
  }
 ],
 "metadata": {
  "kernelspec": {
   "display_name": "Python 3",
   "language": "python",
   "name": "python3"
  },
  "language_info": {
   "codemirror_mode": {
    "name": "ipython",
    "version": 3
   },
   "file_extension": ".py",
   "mimetype": "text/x-python",
   "name": "python",
   "nbconvert_exporter": "python",
   "pygments_lexer": "ipython3",
   "version": "3.8.8"
  },
  "toc": {
   "base_numbering": 1,
   "nav_menu": {},
   "number_sections": true,
   "sideBar": true,
   "skip_h1_title": false,
   "title_cell": "Table of Contents",
   "title_sidebar": "Contents",
   "toc_cell": false,
   "toc_position": {},
   "toc_section_display": true,
   "toc_window_display": false
  }
 },
 "nbformat": 4,
 "nbformat_minor": 5
}
