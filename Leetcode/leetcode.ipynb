{
 "cells": [
  {
   "cell_type": "markdown",
   "id": "c4458e4d",
   "metadata": {},
   "source": [
    "https://leetcode.com/problems/roman-to-integer/\n",
    "### 13. Roman to Integer"
   ]
  },
  {
   "cell_type": "markdown",
   "id": "3c868536",
   "metadata": {},
   "source": [
    "Roman numerals are represented by seven different symbols: I, V, X, L, C, D and M.\n",
    "\n",
    "Symbol       Value\n",
    "I             1\n",
    "V             5\n",
    "X             10\n",
    "L             50\n",
    "C             100\n",
    "D             500\n",
    "M             1000\n",
    "For example, 2 is written as II in Roman numeral, just two one's added together. 12 is written as XII, which is simply X + II. The number 27 is written as XXVII, which is XX + V + II.\n",
    "\n",
    "Roman numerals are usually written largest to smallest from left to right. However, the numeral for four is not IIII. Instead, the number four is written as IV. Because the one is before the five we subtract it making four. The same principle applies to the number nine, which is written as IX. There are six instances where subtraction is used:\n",
    "\n",
    "I can be placed before V (5) and X (10) to make 4 and 9. \n",
    "X can be placed before L (50) and C (100) to make 40 and 90. \n",
    "C can be placed before D (500) and M (1000) to make 400 and 900.\n",
    "Given a roman numeral, convert it to an integer.\n",
    "\n",
    " \n",
    "\n",
    "Example 1:\n",
    "\n",
    "Input: s = \"III\"\n",
    "Output: 3\n",
    "Explanation: III = 3.\n",
    "Example 2:\n",
    "\n",
    "Input: s = \"LVIII\"\n",
    "Output: 58\n",
    "Explanation: L = 50, V= 5, III = 3.\n",
    "Example 3:\n",
    "\n",
    "Input: s = \"MCMXCIV\"\n",
    "Output: 1994\n",
    "Explanation: M = 1000, CM = 900, XC = 90 and IV = 4.\n",
    " \n",
    "\n",
    "Constraints:\n",
    "\n",
    "1 <= s.length <= 15\n",
    "s contains only the characters ('I', 'V', 'X', 'L', 'C', 'D', 'M').\n",
    "It is guaranteed that s is a valid roman numeral in the range [1, 3999]."
   ]
  },
  {
   "cell_type": "code",
   "execution_count": null,
   "id": "301023a3",
   "metadata": {},
   "outputs": [],
   "source": [
    "d = {\n",
    "    \"I\": 1,\n",
    "    \"V\": 5,\n",
    "    \"X\": 10,\n",
    "    \"L\": 50,\n",
    "    \"C\": 100,\n",
    "    \"D\": 500,\n",
    "    \"M\": 1000,\n",
    "}\n",
    "\n",
    "\n",
    "def romanToInt(s):\n",
    "    \"\"\"\n",
    "    :type s: str\n",
    "    :rtype: int\n",
    "    \"\"\"\n",
    "    total = 0\n",
    "    i = 0\n",
    "    while i < len(s):\n",
    "        if i + 1 < len(s) and d[s[i]] < d[s[i+1]]:\n",
    "            total += d[s[i+1]] - d[s[i]]  \n",
    "            i += 2\n",
    "        else:\n",
    "            total += d[s[i]]\n",
    "            i += 1\n",
    "    return total"
   ]
  },
  {
   "cell_type": "code",
   "execution_count": null,
   "id": "51dc6812",
   "metadata": {
    "scrolled": true
   },
   "outputs": [],
   "source": [
    "romanToInt('VI')"
   ]
  },
  {
   "cell_type": "code",
   "execution_count": null,
   "id": "b32c23bd",
   "metadata": {},
   "outputs": [],
   "source": []
  },
  {
   "cell_type": "code",
   "execution_count": null,
   "id": "24e7c321",
   "metadata": {},
   "outputs": [],
   "source": []
  },
  {
   "cell_type": "code",
   "execution_count": null,
   "id": "c2b0bef8",
   "metadata": {},
   "outputs": [],
   "source": []
  },
  {
   "cell_type": "code",
   "execution_count": null,
   "id": "fbc28a1c",
   "metadata": {},
   "outputs": [],
   "source": []
  },
  {
   "cell_type": "code",
   "execution_count": null,
   "id": "3e86dc6e",
   "metadata": {},
   "outputs": [],
   "source": []
  },
  {
   "cell_type": "code",
   "execution_count": null,
   "id": "f795e1d9",
   "metadata": {},
   "outputs": [],
   "source": []
  },
  {
   "cell_type": "code",
   "execution_count": null,
   "id": "543be88e",
   "metadata": {},
   "outputs": [],
   "source": []
  },
  {
   "cell_type": "code",
   "execution_count": null,
   "id": "3c8a3730",
   "metadata": {},
   "outputs": [],
   "source": []
  },
  {
   "cell_type": "code",
   "execution_count": null,
   "id": "2dbd876f",
   "metadata": {},
   "outputs": [],
   "source": []
  },
  {
   "cell_type": "code",
   "execution_count": null,
   "id": "38b94d20",
   "metadata": {},
   "outputs": [],
   "source": [
    "d = {\"I\":1,\"V\":5,\"X\":10,\"L\":50,\"C\":100,\"D\":500,\"M\":1000}\n",
    "x=[\"X\",\"X\",\"I\",\"V\"]\n",
    "\n",
    "count=0\n",
    "\n",
    "if len(x) >= 2:\n",
    "    for i in range(0,len(x)-1):\n",
    "        if d[x[i]] >= d[x[i+1]]:\n",
    "            count=count+d[x[i]]    \n",
    "        else:\n",
    "            print(d[x[i+1]]-d[x[i]])\n",
    "\n",
    "    if count==0:\n",
    "        print(d[x[0]])\n",
    "    else:\n",
    "        count=count+d[x[-1]]\n",
    "        print(count)"
   ]
  },
  {
   "cell_type": "markdown",
   "id": "e816cba3",
   "metadata": {},
   "source": [
    "    # q1`'?"
   ]
  },
  {
   "cell_type": "code",
   "execution_count": null,
   "id": "c57adca8",
   "metadata": {},
   "outputs": [],
   "source": [
    "'??'"
   ]
  },
  {
   "cell_type": "code",
   "execution_count": null,
   "id": "f80bc98a",
   "metadata": {},
   "outputs": [],
   "source": []
  },
  {
   "cell_type": "markdown",
   "id": "b29e5f3e",
   "metadata": {},
   "source": [
    "https://leetcode.com/problems/remove-element/"
   ]
  },
  {
   "cell_type": "code",
   "execution_count": null,
   "id": "38df4b56",
   "metadata": {},
   "outputs": [],
   "source": [
    "def removeElement(nums, val):\n",
    "    \"\"\"\n",
    "    :type nums: List[int]\n",
    "    :type val: int\n",
    "    :rtype: int\n",
    "    \"\"\"\n",
    "    count = 0\n",
    "    for i in range(len(nums)):\n",
    "        if nums[i] != val :\n",
    "            nums[count] = nums[i]\n",
    "            count +=1\n",
    "    return count\n",
    "\n",
    "#         while True:\n",
    "#             try:\n",
    "#                 a = nums.index(val)\n",
    "#             except: break\n",
    "#             nums.pop(a)\n",
    "#         return len(nums)"
   ]
  },
  {
   "cell_type": "code",
   "execution_count": null,
   "id": "59b1a1ac",
   "metadata": {},
   "outputs": [],
   "source": [
    "removeElement(nums = [3,2,2,3], val = 3)"
   ]
  },
  {
   "cell_type": "markdown",
   "id": "e46b3d34",
   "metadata": {},
   "source": [
    "https://leetcode.com/problems/merge-two-sorted-lists/"
   ]
  },
  {
   "cell_type": "code",
   "execution_count": null,
   "id": "f15b4101",
   "metadata": {},
   "outputs": [],
   "source": [
    "    def mergeTwoLists(list1, list2):\n",
    "        \"\"\"\n",
    "        :type list1: Optional[ListNode]\n",
    "        :type list2: Optional[ListNode]\n",
    "        :rtype: Optional[ListNode]\n",
    "        \"\"\"\n",
    "        merged = sorted(list1 + list2)\n",
    "        return merged"
   ]
  },
  {
   "cell_type": "code",
   "execution_count": null,
   "id": "d05fc1f1",
   "metadata": {
    "scrolled": true
   },
   "outputs": [],
   "source": [
    "mergeTwoLists(list1 = [1,2,4], list2 = [1,3,4])"
   ]
  },
  {
   "cell_type": "code",
   "execution_count": null,
   "id": "735a06b9",
   "metadata": {},
   "outputs": [],
   "source": [
    "mergeTwoLists(list1 = [], list2 = [])"
   ]
  },
  {
   "cell_type": "code",
   "execution_count": null,
   "id": "9766e4e7",
   "metadata": {},
   "outputs": [],
   "source": [
    "mergeTwoLists(list1 = [], list2 = [0])"
   ]
  },
  {
   "cell_type": "code",
   "execution_count": null,
   "id": "cf299d6a",
   "metadata": {},
   "outputs": [],
   "source": [
    "list1.data"
   ]
  },
  {
   "cell_type": "code",
   "execution_count": null,
   "id": "b9651031",
   "metadata": {},
   "outputs": [],
   "source": []
  },
  {
   "cell_type": "code",
   "execution_count": null,
   "id": "892bc253",
   "metadata": {},
   "outputs": [],
   "source": []
  },
  {
   "cell_type": "code",
   "execution_count": 8,
   "id": "5d235cf8",
   "metadata": {},
   "outputs": [
    {
     "name": "stdout",
     "output_type": "stream",
     "text": [
      "[1, 2, 2, 3]\n",
      "[1, 2, 3]\n"
     ]
    }
   ],
   "source": [
    "li=[1,2,2,2,3]\n",
    "val=2\n",
    "for i in li:\n",
    "#     print(i)\n",
    "    if i == val:\n",
    "        li.remove(i)\n",
    "        print(li)"
   ]
  },
  {
   "cell_type": "code",
   "execution_count": 10,
   "id": "6ad1aa86",
   "metadata": {},
   "outputs": [
    {
     "name": "stdout",
     "output_type": "stream",
     "text": [
      "['b', 'c']\n"
     ]
    }
   ],
   "source": [
    "li=['a', 'b', 'c']\n",
    "val='a'\n",
    "for i in li:\n",
    "#     print(i)\n",
    "    if i == 'a':\n",
    "        li.remove(i)\n",
    "        print(li)"
   ]
  },
  {
   "cell_type": "code",
   "execution_count": 15,
   "id": "f4a0a782",
   "metadata": {
    "heading_collapsed": true
   },
   "outputs": [
    {
     "data": {
      "text/plain": [
       "[1, 1, 2, 2, 3, 3]"
      ]
     },
     "execution_count": 15,
     "metadata": {},
     "output_type": "execute_result"
    }
   ],
   "source": [
    "### a=[]\n",
    "a=[1,2,3]\n",
    "b=[1,2,3]\n",
    "c=[]\n",
    "for i in range(len(a)):\n",
    "    c.append(a[i])\n",
    "for i in range(len(b)):\n",
    "    c.append(b[i])\n",
    "sorted(c)\n",
    "    "
   ]
  },
  {
   "cell_type": "code",
   "execution_count": 31,
   "id": "c0783a43",
   "metadata": {},
   "outputs": [],
   "source": [
    "def hi(a,b):\n",
    "    c=[]\n",
    "    for i in range(len(a)):\n",
    "        c.append(a[i])\n",
    "    for i in range(len(b)):\n",
    "        c.append(b[i])\n",
    "    return sorted(c) "
   ]
  },
  {
   "cell_type": "code",
   "execution_count": 32,
   "id": "ebf668b4",
   "metadata": {},
   "outputs": [
    {
     "data": {
      "text/plain": [
       "[1, 1, 2, 2, 3, 4]"
      ]
     },
     "execution_count": 32,
     "metadata": {},
     "output_type": "execute_result"
    }
   ],
   "source": [
    " hi([1,2,3],[1,2,4])"
   ]
  },
  {
   "cell_type": "code",
   "execution_count": 33,
   "id": "4469cdb2",
   "metadata": {},
   "outputs": [],
   "source": [
    "a=[1,2,3]\n",
    "b=[1,2,3]"
   ]
  },
  {
   "cell_type": "code",
   "execution_count": 34,
   "id": "398d24f7",
   "metadata": {},
   "outputs": [
    {
     "data": {
      "text/plain": [
       "[1, 2, 3, 1, 2, 3]"
      ]
     },
     "execution_count": 34,
     "metadata": {},
     "output_type": "execute_result"
    }
   ],
   "source": [
    "a + b"
   ]
  },
  {
   "cell_type": "code",
   "execution_count": null,
   "id": "79a0b18a",
   "metadata": {},
   "outputs": [],
   "source": []
  },
  {
   "cell_type": "code",
   "execution_count": null,
   "id": "cf2cb8f8",
   "metadata": {},
   "outputs": [],
   "source": []
  },
  {
   "cell_type": "code",
   "execution_count": null,
   "id": "50bfbc44",
   "metadata": {},
   "outputs": [],
   "source": []
  },
  {
   "cell_type": "code",
   "execution_count": null,
   "id": "7b151e05",
   "metadata": {},
   "outputs": [],
   "source": []
  }
 ],
 "metadata": {
  "kernelspec": {
   "display_name": "Python 3",
   "language": "python",
   "name": "python3"
  },
  "language_info": {
   "codemirror_mode": {
    "name": "ipython",
    "version": 3
   },
   "file_extension": ".py",
   "mimetype": "text/x-python",
   "name": "python",
   "nbconvert_exporter": "python",
   "pygments_lexer": "ipython3",
   "version": "3.8.8"
  },
  "toc": {
   "base_numbering": 1,
   "nav_menu": {},
   "number_sections": true,
   "sideBar": true,
   "skip_h1_title": false,
   "title_cell": "Table of Contents",
   "title_sidebar": "Contents",
   "toc_cell": false,
   "toc_position": {},
   "toc_section_display": true,
   "toc_window_display": false
  }
 },
 "nbformat": 4,
 "nbformat_minor": 5
}
