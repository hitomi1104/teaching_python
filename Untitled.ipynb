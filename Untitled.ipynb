{
 "cells": [
  {
   "cell_type": "code",
   "execution_count": 9,
   "id": "cc105f45",
   "metadata": {},
   "outputs": [],
   "source": [
    "import numpy as np\n",
    "import pandas as pd\n",
    "import matplotlib.pyplot as plt\n",
    "import seaborn as sns\n",
    "\n",
    "sns.set(font_scale=1.5)\n",
    "%config InlineBackend.figure_format = 'retina'\n",
    "%matplotlib inline"
   ]
  },
  {
   "cell_type": "code",
   "execution_count": 2,
   "id": "6ad28050",
   "metadata": {},
   "outputs": [],
   "source": [
    "df = pd.read_csv(\"dataset/QS World University Rankings 2022.csv\")"
   ]
  },
  {
   "cell_type": "code",
   "execution_count": 3,
   "id": "b8b9dc2c",
   "metadata": {},
   "outputs": [
    {
     "data": {
      "text/html": [
       "<div>\n",
       "<style scoped>\n",
       "    .dataframe tbody tr th:only-of-type {\n",
       "        vertical-align: middle;\n",
       "    }\n",
       "\n",
       "    .dataframe tbody tr th {\n",
       "        vertical-align: top;\n",
       "    }\n",
       "\n",
       "    .dataframe thead th {\n",
       "        text-align: right;\n",
       "    }\n",
       "</style>\n",
       "<table border=\"1\" class=\"dataframe\">\n",
       "  <thead>\n",
       "    <tr style=\"text-align: right;\">\n",
       "      <th></th>\n",
       "      <th>year</th>\n",
       "      <th>rank_display</th>\n",
       "      <th>university</th>\n",
       "      <th>score</th>\n",
       "      <th>link</th>\n",
       "      <th>country</th>\n",
       "      <th>city</th>\n",
       "      <th>region</th>\n",
       "      <th>logo</th>\n",
       "    </tr>\n",
       "  </thead>\n",
       "  <tbody>\n",
       "    <tr>\n",
       "      <th>0</th>\n",
       "      <td>2022</td>\n",
       "      <td>1</td>\n",
       "      <td>Massachusetts Institute of Technology (MIT)</td>\n",
       "      <td>100.0</td>\n",
       "      <td>https://www.topuniversities.com/universities/m...</td>\n",
       "      <td>United States</td>\n",
       "      <td>Cambridge</td>\n",
       "      <td>North America</td>\n",
       "      <td>https://www.topuniversities.com/sites/default/...</td>\n",
       "    </tr>\n",
       "    <tr>\n",
       "      <th>1</th>\n",
       "      <td>2022</td>\n",
       "      <td>2</td>\n",
       "      <td>University of Oxford</td>\n",
       "      <td>99.5</td>\n",
       "      <td>https://www.topuniversities.com/universities/u...</td>\n",
       "      <td>United Kingdom</td>\n",
       "      <td>Oxford</td>\n",
       "      <td>Europe</td>\n",
       "      <td>https://www.topuniversities.com/sites/default/...</td>\n",
       "    </tr>\n",
       "    <tr>\n",
       "      <th>2</th>\n",
       "      <td>2022</td>\n",
       "      <td>=3</td>\n",
       "      <td>Stanford University</td>\n",
       "      <td>98.7</td>\n",
       "      <td>https://www.topuniversities.com/universities/s...</td>\n",
       "      <td>United States</td>\n",
       "      <td>Stanford</td>\n",
       "      <td>North America</td>\n",
       "      <td>https://www.topuniversities.com/sites/default/...</td>\n",
       "    </tr>\n",
       "    <tr>\n",
       "      <th>3</th>\n",
       "      <td>2022</td>\n",
       "      <td>=3</td>\n",
       "      <td>University of Cambridge</td>\n",
       "      <td>98.7</td>\n",
       "      <td>https://www.topuniversities.com/universities/u...</td>\n",
       "      <td>United Kingdom</td>\n",
       "      <td>Cambridge</td>\n",
       "      <td>Europe</td>\n",
       "      <td>https://www.topuniversities.com/sites/default/...</td>\n",
       "    </tr>\n",
       "    <tr>\n",
       "      <th>4</th>\n",
       "      <td>2022</td>\n",
       "      <td>5</td>\n",
       "      <td>Harvard University</td>\n",
       "      <td>98.0</td>\n",
       "      <td>https://www.topuniversities.com/universities/h...</td>\n",
       "      <td>United States</td>\n",
       "      <td>Cambridge</td>\n",
       "      <td>North America</td>\n",
       "      <td>https://www.topuniversities.com/sites/default/...</td>\n",
       "    </tr>\n",
       "  </tbody>\n",
       "</table>\n",
       "</div>"
      ],
      "text/plain": [
       "   year rank_display                                    university  score  \\\n",
       "0  2022            1  Massachusetts Institute of Technology (MIT)   100.0   \n",
       "1  2022            2                          University of Oxford   99.5   \n",
       "2  2022           =3                           Stanford University   98.7   \n",
       "3  2022           =3                       University of Cambridge   98.7   \n",
       "4  2022            5                            Harvard University   98.0   \n",
       "\n",
       "                                                link         country  \\\n",
       "0  https://www.topuniversities.com/universities/m...   United States   \n",
       "1  https://www.topuniversities.com/universities/u...  United Kingdom   \n",
       "2  https://www.topuniversities.com/universities/s...   United States   \n",
       "3  https://www.topuniversities.com/universities/u...  United Kingdom   \n",
       "4  https://www.topuniversities.com/universities/h...   United States   \n",
       "\n",
       "        city         region                                               logo  \n",
       "0  Cambridge  North America  https://www.topuniversities.com/sites/default/...  \n",
       "1     Oxford         Europe  https://www.topuniversities.com/sites/default/...  \n",
       "2   Stanford  North America  https://www.topuniversities.com/sites/default/...  \n",
       "3  Cambridge         Europe  https://www.topuniversities.com/sites/default/...  \n",
       "4  Cambridge  North America  https://www.topuniversities.com/sites/default/...  "
      ]
     },
     "execution_count": 3,
     "metadata": {},
     "output_type": "execute_result"
    }
   ],
   "source": [
    "df.head()"
   ]
  },
  {
   "cell_type": "code",
   "execution_count": 4,
   "id": "8aef0785",
   "metadata": {},
   "outputs": [],
   "source": [
    "df.drop(columns = [\"link\", \"logo\", \"year\"], inplace = True)"
   ]
  },
  {
   "cell_type": "code",
   "execution_count": 5,
   "id": "d2c4ee37",
   "metadata": {},
   "outputs": [
    {
     "data": {
      "text/html": [
       "<div>\n",
       "<style scoped>\n",
       "    .dataframe tbody tr th:only-of-type {\n",
       "        vertical-align: middle;\n",
       "    }\n",
       "\n",
       "    .dataframe tbody tr th {\n",
       "        vertical-align: top;\n",
       "    }\n",
       "\n",
       "    .dataframe thead th {\n",
       "        text-align: right;\n",
       "    }\n",
       "</style>\n",
       "<table border=\"1\" class=\"dataframe\">\n",
       "  <thead>\n",
       "    <tr style=\"text-align: right;\">\n",
       "      <th></th>\n",
       "      <th>rank_display</th>\n",
       "      <th>university</th>\n",
       "      <th>score</th>\n",
       "      <th>country</th>\n",
       "      <th>city</th>\n",
       "      <th>region</th>\n",
       "    </tr>\n",
       "  </thead>\n",
       "  <tbody>\n",
       "    <tr>\n",
       "      <th>0</th>\n",
       "      <td>1</td>\n",
       "      <td>Massachusetts Institute of Technology (MIT)</td>\n",
       "      <td>100.0</td>\n",
       "      <td>United States</td>\n",
       "      <td>Cambridge</td>\n",
       "      <td>North America</td>\n",
       "    </tr>\n",
       "    <tr>\n",
       "      <th>1</th>\n",
       "      <td>2</td>\n",
       "      <td>University of Oxford</td>\n",
       "      <td>99.5</td>\n",
       "      <td>United Kingdom</td>\n",
       "      <td>Oxford</td>\n",
       "      <td>Europe</td>\n",
       "    </tr>\n",
       "    <tr>\n",
       "      <th>2</th>\n",
       "      <td>=3</td>\n",
       "      <td>Stanford University</td>\n",
       "      <td>98.7</td>\n",
       "      <td>United States</td>\n",
       "      <td>Stanford</td>\n",
       "      <td>North America</td>\n",
       "    </tr>\n",
       "    <tr>\n",
       "      <th>3</th>\n",
       "      <td>=3</td>\n",
       "      <td>University of Cambridge</td>\n",
       "      <td>98.7</td>\n",
       "      <td>United Kingdom</td>\n",
       "      <td>Cambridge</td>\n",
       "      <td>Europe</td>\n",
       "    </tr>\n",
       "    <tr>\n",
       "      <th>4</th>\n",
       "      <td>5</td>\n",
       "      <td>Harvard University</td>\n",
       "      <td>98.0</td>\n",
       "      <td>United States</td>\n",
       "      <td>Cambridge</td>\n",
       "      <td>North America</td>\n",
       "    </tr>\n",
       "  </tbody>\n",
       "</table>\n",
       "</div>"
      ],
      "text/plain": [
       "  rank_display                                    university  score  \\\n",
       "0            1  Massachusetts Institute of Technology (MIT)   100.0   \n",
       "1            2                          University of Oxford   99.5   \n",
       "2           =3                           Stanford University   98.7   \n",
       "3           =3                       University of Cambridge   98.7   \n",
       "4            5                            Harvard University   98.0   \n",
       "\n",
       "          country       city         region  \n",
       "0   United States  Cambridge  North America  \n",
       "1  United Kingdom     Oxford         Europe  \n",
       "2   United States   Stanford  North America  \n",
       "3  United Kingdom  Cambridge         Europe  \n",
       "4   United States  Cambridge  North America  "
      ]
     },
     "execution_count": 5,
     "metadata": {},
     "output_type": "execute_result"
    }
   ],
   "source": [
    "df.head()"
   ]
  },
  {
   "cell_type": "code",
   "execution_count": 6,
   "id": "bfe75e89",
   "metadata": {},
   "outputs": [
    {
     "data": {
      "text/plain": [
       "(1300, 6)"
      ]
     },
     "execution_count": 6,
     "metadata": {},
     "output_type": "execute_result"
    }
   ],
   "source": [
    "df.shape"
   ]
  },
  {
   "cell_type": "code",
   "execution_count": 7,
   "id": "304e6da7",
   "metadata": {},
   "outputs": [],
   "source": [
    "df_us = df[\"country\"] == \"United States\""
   ]
  },
  {
   "cell_type": "code",
   "execution_count": 8,
   "id": "96ff69a9",
   "metadata": {},
   "outputs": [
    {
     "data": {
      "text/plain": [
       "0        True\n",
       "1       False\n",
       "2        True\n",
       "3       False\n",
       "4        True\n",
       "        ...  \n",
       "1295    False\n",
       "1296    False\n",
       "1297    False\n",
       "1298    False\n",
       "1299    False\n",
       "Name: country, Length: 1300, dtype: bool"
      ]
     },
     "execution_count": 8,
     "metadata": {},
     "output_type": "execute_result"
    }
   ],
   "source": [
    "df_us"
   ]
  },
  {
   "cell_type": "code",
   "execution_count": null,
   "id": "7688cfbf",
   "metadata": {},
   "outputs": [],
   "source": []
  }
 ],
 "metadata": {
  "kernelspec": {
   "display_name": "Python 3",
   "language": "python",
   "name": "python3"
  },
  "language_info": {
   "codemirror_mode": {
    "name": "ipython",
    "version": 3
   },
   "file_extension": ".py",
   "mimetype": "text/x-python",
   "name": "python",
   "nbconvert_exporter": "python",
   "pygments_lexer": "ipython3",
   "version": "3.8.8"
  },
  "toc": {
   "base_numbering": 1,
   "nav_menu": {},
   "number_sections": true,
   "sideBar": true,
   "skip_h1_title": false,
   "title_cell": "Table of Contents",
   "title_sidebar": "Contents",
   "toc_cell": false,
   "toc_position": {},
   "toc_section_display": true,
   "toc_window_display": false
  }
 },
 "nbformat": 4,
 "nbformat_minor": 5
}
