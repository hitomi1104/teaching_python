{
 "cells": [
  {
   "cell_type": "code",
   "execution_count": 1,
   "id": "16a945bb",
   "metadata": {},
   "outputs": [],
   "source": [
    "def reverse(n):\n",
    "    digit=0\n",
    "    rev_num=0\n",
    "    # n>0 means negative numbers. ex: -121 cannot be a solution it's reversed to 121- which doesn't make sense\n",
    "    while(n>0): # return False for all negative numbers\n",
    "        \n",
    "        # 10 different digits {0,1,2,3,4,5,6,7,8,9}\n",
    "        # n%10 can identify the digit piece by piece\n",
    "            # ex:12345 to get the last digit 5 => 12345%10 = 5\n",
    "            # similarly, \n",
    "                # 123%10 = 3\n",
    "                # 12345%10 = 5   \n",
    "        digit= n%10\n",
    "        \n",
    "        # for n = 121 we get 12\n",
    "        # division works, but using floor division is more clear to see here.\n",
    "            #We divide n ech time so when we finish iterating thr all the integers from the left \n",
    "            # 12345=>1234=>123=>12=>1=>0 we can get put of the while loop\n",
    "        n=(n//10)\n",
    "        rev_num=rev_num*10+digit\n",
    "        # 1st round for 121\n",
    "            # digit: 1, n = 12, rev_num: 0*0+1 =1\n",
    "        # 2nd\n",
    "            # digit: 2 (12%10), n = 1, rev_num: 1*10+2 =12\n",
    "        # 3rd\n",
    "            # digit: 1 (1%1), n = 0, rev_num: 12*10+1 =121\n",
    "            \n",
    "            # now we have n =0, so we return rev_num = 121\n",
    "    return rev_num"
   ]
  },
  {
   "cell_type": "code",
   "execution_count": 2,
   "id": "f05193e0",
   "metadata": {},
   "outputs": [
    {
     "name": "stdout",
     "output_type": "stream",
     "text": [
      "enter a #121\n",
      "true\n"
     ]
    }
   ],
   "source": [
    "x=int(input(\"enter a #\"))\n",
    "r=reverse(x)\n",
    "# if x = 121, r = 121\n",
    "# if x = 12345, r = 54321\n",
    "# checks if reversed number = original\n",
    "\n",
    "if r == x:\n",
    "  print(\"true\")\n",
    "else:\n",
    "  print(\"false\")"
   ]
  },
  {
   "cell_type": "code",
   "execution_count": 1,
   "id": "2632df00",
   "metadata": {},
   "outputs": [
    {
     "data": {
      "text/plain": [
       "1234"
      ]
     },
     "execution_count": 1,
     "metadata": {},
     "output_type": "execute_result"
    }
   ],
   "source": [
    "12345//10"
   ]
  },
  {
   "cell_type": "code",
   "execution_count": 5,
   "id": "ce4449ff",
   "metadata": {},
   "outputs": [
    {
     "data": {
      "text/plain": [
       "1"
      ]
     },
     "execution_count": 5,
     "metadata": {},
     "output_type": "execute_result"
    }
   ],
   "source": [
    "int(12/10)"
   ]
  },
  {
   "cell_type": "code",
   "execution_count": 6,
   "id": "ee6afb1b",
   "metadata": {},
   "outputs": [
    {
     "data": {
      "text/plain": [
       "1"
      ]
     },
     "execution_count": 6,
     "metadata": {},
     "output_type": "execute_result"
    }
   ],
   "source": [
    "12//10"
   ]
  },
  {
   "cell_type": "markdown",
   "id": "fddd40e9",
   "metadata": {},
   "source": [
    "Single Number\n",
    "Given a non-empty array of integers nums, every element appears twice except for one. Find that single one.\n",
    "\n",
    "You must implement a solution with a linear runtime complexity and use only constant extra space.\n",
    "\n",
    "Example 1:\n",
    "\n",
    "Input: nums = [2,2,1] Output: 1 Example 2:\n",
    "\n",
    "Input: nums = [4,1,2,1,2] Output: 4 Example 3:\n",
    "\n",
    "Input: nums = [1] Output: 1\n",
    "\n",
    "Constraints:\n",
    "\n",
    "1 <= nums.length <= 3 * 104 -3 * 104 <= nums[i] <= 3 * 104 Each element in the array appears twice except for one element which appears only once.\n",
    "\n"
   ]
  },
  {
   "cell_type": "code",
   "execution_count": 61,
   "id": "088b5151",
   "metadata": {},
   "outputs": [
    {
     "name": "stdout",
     "output_type": "stream",
     "text": [
      "test1:  2\n",
      "test2:  4\n"
     ]
    }
   ],
   "source": [
    "def find_single_number(arr, n):\n",
    "    arr.sort()\n",
    "    if n == 1:\n",
    "        return 1\n",
    "    else:\n",
    "        res = arr[0]\n",
    "        # Do XOR of all elements and return\n",
    "        for i in range(1,n):\n",
    "            res = res ^ arr[i]\n",
    "        return res\n",
    " \n",
    "\n",
    "# test\n",
    "arr = [2,3,5,4,5,3,4]\n",
    "print('test1: ',find_single_number(arr, len(arr)))\n",
    "\n",
    "arr2 = [2,2,3,3,4]\n",
    "print('test2: ',find_single_number(arr2, len(arr2)))"
   ]
  },
  {
   "cell_type": "code",
   "execution_count": 62,
   "id": "113692b4",
   "metadata": {},
   "outputs": [
    {
     "name": "stdout",
     "output_type": "stream",
     "text": [
      "test1:  2\n",
      "test2:  4\n"
     ]
    }
   ],
   "source": [
    "def find_single_number2(arr):\n",
    "    arr.sort()\n",
    "    if arr == 1:\n",
    "        return 1\n",
    "    else:\n",
    "        return 2 * sum(set(n))*2 - (sum(n))\n",
    " \n",
    "\n",
    "# test\n",
    "arr = [2,3,5,4,5,3,4]\n",
    "print('test1: ',find_single_number(arr, len(arr)))\n",
    "\n",
    "arr2 = [2,2,3,3,4]\n",
    "print('test2: ',find_single_number(arr2, len(arr2)))\n"
   ]
  },
  {
   "cell_type": "code",
   "execution_count": null,
   "id": "623e94c1",
   "metadata": {},
   "outputs": [],
   "source": []
  }
 ],
 "metadata": {
  "kernelspec": {
   "display_name": "Python 3",
   "language": "python",
   "name": "python3"
  },
  "language_info": {
   "codemirror_mode": {
    "name": "ipython",
    "version": 3
   },
   "file_extension": ".py",
   "mimetype": "text/x-python",
   "name": "python",
   "nbconvert_exporter": "python",
   "pygments_lexer": "ipython3",
   "version": "3.8.8"
  },
  "toc": {
   "base_numbering": 1,
   "nav_menu": {},
   "number_sections": true,
   "sideBar": true,
   "skip_h1_title": false,
   "title_cell": "Table of Contents",
   "title_sidebar": "Contents",
   "toc_cell": false,
   "toc_position": {},
   "toc_section_display": true,
   "toc_window_display": false
  }
 },
 "nbformat": 4,
 "nbformat_minor": 5
}
