{
 "cells": [
  {
   "cell_type": "markdown",
   "id": "d431352b",
   "metadata": {},
   "source": [
    "### Import libraries "
   ]
  },
  {
   "cell_type": "code",
   "execution_count": 1,
   "id": "cc105f45",
   "metadata": {},
   "outputs": [],
   "source": [
    "import numpy as np\n",
    "import pandas as pd\n",
    "import matplotlib.pyplot as plt\n",
    "import seaborn as sns\n",
    "\n",
    "sns.set(font_scale=1.5)\n",
    "%config InlineBackend.figure_format = 'retina'\n",
    "%matplotlib inline"
   ]
  },
  {
   "cell_type": "markdown",
   "id": "fc7a5e6b",
   "metadata": {},
   "source": [
    "### read dataset using pd.read_csv(\"path of the file\")"
   ]
  },
  {
   "cell_type": "code",
   "execution_count": null,
   "id": "6ad28050",
   "metadata": {},
   "outputs": [],
   "source": [
    "# dataset/vgsales.csv"
   ]
  },
  {
   "cell_type": "markdown",
   "id": "91bad7b3",
   "metadata": {},
   "source": [
    "### Print out first 5 rows of the data"
   ]
  },
  {
   "cell_type": "code",
   "execution_count": null,
   "id": "b8b9dc2c",
   "metadata": {
    "scrolled": false
   },
   "outputs": [],
   "source": []
  },
  {
   "cell_type": "markdown",
   "id": "0452b87c",
   "metadata": {},
   "source": [
    "### Checking the datatypes of the columns using df.dtypes"
   ]
  },
  {
   "cell_type": "code",
   "execution_count": null,
   "id": "162e3ac3",
   "metadata": {
    "scrolled": false
   },
   "outputs": [],
   "source": []
  },
  {
   "cell_type": "markdown",
   "id": "aa1d6d7f",
   "metadata": {},
   "source": [
    "### Print out all the columns names"
   ]
  },
  {
   "cell_type": "code",
   "execution_count": null,
   "id": "23860064",
   "metadata": {},
   "outputs": [],
   "source": []
  },
  {
   "cell_type": "markdown",
   "id": "92ac9b7b",
   "metadata": {},
   "source": [
    "### Print out the shape of the dataset using df.shape"
   ]
  },
  {
   "cell_type": "code",
   "execution_count": null,
   "id": "bfe75e89",
   "metadata": {
    "scrolled": false
   },
   "outputs": [],
   "source": []
  }
 ],
 "metadata": {
  "kernelspec": {
   "display_name": "Python 3",
   "language": "python",
   "name": "python3"
  },
  "language_info": {
   "codemirror_mode": {
    "name": "ipython",
    "version": 3
   },
   "file_extension": ".py",
   "mimetype": "text/x-python",
   "name": "python",
   "nbconvert_exporter": "python",
   "pygments_lexer": "ipython3",
   "version": "3.8.8"
  },
  "toc": {
   "base_numbering": 1,
   "nav_menu": {},
   "number_sections": true,
   "sideBar": true,
   "skip_h1_title": false,
   "title_cell": "Table of Contents",
   "title_sidebar": "Contents",
   "toc_cell": false,
   "toc_position": {},
   "toc_section_display": true,
   "toc_window_display": false
  }
 },
 "nbformat": 4,
 "nbformat_minor": 5
}
