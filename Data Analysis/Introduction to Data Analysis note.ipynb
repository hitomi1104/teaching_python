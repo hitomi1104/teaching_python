{
 "cells": [
  {
   "cell_type": "markdown",
   "id": "81dec63b",
   "metadata": {},
   "source": []
  },
  {
   "cell_type": "markdown",
   "id": "d431352b",
   "metadata": {},
   "source": [
    "### Import libraries "
   ]
  },
  {
   "cell_type": "code",
   "execution_count": 1,
   "id": "cc105f45",
   "metadata": {},
   "outputs": [],
   "source": [
    "import numpy as np\n",
    "import pandas as pd\n",
    "import matplotlib.pyplot as plt\n",
    "import seaborn as sns\n",
    "\n",
    "sns.set(font_scale=1.5)\n",
    "%config InlineBackend.figure_format = 'retina'\n",
    "%matplotlib inline"
   ]
  },
  {
   "cell_type": "markdown",
   "id": "fc7a5e6b",
   "metadata": {},
   "source": [
    "### read dataset using pd.read_csv(\"path of the file\")"
   ]
  },
  {
   "cell_type": "code",
   "execution_count": null,
   "id": "6ad28050",
   "metadata": {},
   "outputs": [],
   "source": []
  },
  {
   "cell_type": "markdown",
   "id": "91bad7b3",
   "metadata": {},
   "source": [
    "### Print out first 5 rows of the data"
   ]
  },
  {
   "cell_type": "code",
   "execution_count": null,
   "id": "b8b9dc2c",
   "metadata": {
    "scrolled": false
   },
   "outputs": [],
   "source": []
  },
  {
   "cell_type": "markdown",
   "id": "0452b87c",
   "metadata": {},
   "source": [
    "### Checking the datatypes of the columns using df.dtypes"
   ]
  },
  {
   "cell_type": "code",
   "execution_count": null,
   "id": "162e3ac3",
   "metadata": {
    "scrolled": false
   },
   "outputs": [],
   "source": []
  },
  {
   "cell_type": "markdown",
   "id": "f5327b5b",
   "metadata": {},
   "source": [
    "### Changing \"Unnamed: 0\" to \"College_name\""
   ]
  },
  {
   "cell_type": "code",
   "execution_count": null,
   "id": "beb83dd3",
   "metadata": {},
   "outputs": [],
   "source": []
  },
  {
   "cell_type": "markdown",
   "id": "aa1d6d7f",
   "metadata": {},
   "source": [
    "### Print out all the columns names"
   ]
  },
  {
   "cell_type": "code",
   "execution_count": null,
   "id": "23860064",
   "metadata": {},
   "outputs": [],
   "source": []
  },
  {
   "cell_type": "markdown",
   "id": "d686b888",
   "metadata": {},
   "source": [
    "### print first 5 rows of the data again"
   ]
  },
  {
   "cell_type": "code",
   "execution_count": null,
   "id": "34f1095f",
   "metadata": {},
   "outputs": [],
   "source": []
  },
  {
   "cell_type": "code",
   "execution_count": null,
   "id": "c736f249",
   "metadata": {},
   "outputs": [],
   "source": []
  },
  {
   "cell_type": "markdown",
   "id": "92ac9b7b",
   "metadata": {},
   "source": [
    "### Print out the shape of the dataset using df.shape"
   ]
  },
  {
   "cell_type": "code",
   "execution_count": null,
   "id": "bfe75e89",
   "metadata": {
    "scrolled": false
   },
   "outputs": [],
   "source": []
  },
  {
   "cell_type": "markdown",
   "id": "f853a16d",
   "metadata": {},
   "source": [
    "### Plot a Histgram"
   ]
  },
  {
   "cell_type": "markdown",
   "id": "09c44e18",
   "metadata": {},
   "source": [
    "#### Apps"
   ]
  },
  {
   "cell_type": "code",
   "execution_count": 2,
   "id": "c39ebf9d",
   "metadata": {
    "scrolled": true
   },
   "outputs": [],
   "source": [
    "# sns.distplot(df['Apps'],bins=20,kde=False)\n",
    "# plt.show()"
   ]
  },
  {
   "cell_type": "markdown",
   "id": "80b4c07f",
   "metadata": {},
   "source": [
    "#### Accept"
   ]
  },
  {
   "cell_type": "code",
   "execution_count": null,
   "id": "7c318ddd",
   "metadata": {},
   "outputs": [],
   "source": []
  },
  {
   "cell_type": "markdown",
   "id": "8be40c24",
   "metadata": {},
   "source": [
    "#### Enroll"
   ]
  },
  {
   "cell_type": "code",
   "execution_count": null,
   "id": "33f9454c",
   "metadata": {},
   "outputs": [],
   "source": []
  },
  {
   "cell_type": "markdown",
   "id": "f097b5a2",
   "metadata": {},
   "source": [
    "#### Top10perc"
   ]
  },
  {
   "cell_type": "code",
   "execution_count": null,
   "id": "0be3aee4",
   "metadata": {},
   "outputs": [],
   "source": []
  },
  {
   "cell_type": "markdown",
   "id": "3ec429e8",
   "metadata": {},
   "source": [
    "#### phd"
   ]
  },
  {
   "cell_type": "code",
   "execution_count": null,
   "id": "e278de58",
   "metadata": {},
   "outputs": [],
   "source": []
  },
  {
   "cell_type": "markdown",
   "id": "2ec2b303",
   "metadata": {},
   "source": [
    "### Plot Accept and enroll together"
   ]
  },
  {
   "cell_type": "code",
   "execution_count": null,
   "id": "da420b41",
   "metadata": {},
   "outputs": [],
   "source": []
  },
  {
   "cell_type": "markdown",
   "id": "9457df0f",
   "metadata": {},
   "source": [
    "### resources\n",
    "\n",
    "Take a look at the matplotlib and seaborn documentation for some inspiration. Tableau and D3 also have good resources on its website.\n",
    "\n",
    "Click here for more:\n",
    "\n",
    "[Matplotlib gallery](http://matplotlib.org/gallery/index.html)\n",
    "\n",
    "[Seaborn gallery](http://seaborn.pydata.org/examples/index.html)\n",
    "\n",
    "[Tableau charts and graphs](https://drive.google.com/file/d/0Bx2SHQGVqWasT1l4NWtLclJJcWM/view)\n",
    "\n",
    "[D3 gallery](https://github.com/mbostock/d3/wiki/Gallery)"
   ]
  },
  {
   "cell_type": "code",
   "execution_count": null,
   "id": "642f5210",
   "metadata": {},
   "outputs": [],
   "source": []
  }
 ],
 "metadata": {
  "kernelspec": {
   "display_name": "Python 3",
   "language": "python",
   "name": "python3"
  },
  "language_info": {
   "codemirror_mode": {
    "name": "ipython",
    "version": 3
   },
   "file_extension": ".py",
   "mimetype": "text/x-python",
   "name": "python",
   "nbconvert_exporter": "python",
   "pygments_lexer": "ipython3",
   "version": "3.8.8"
  },
  "toc": {
   "base_numbering": 1,
   "nav_menu": {},
   "number_sections": true,
   "sideBar": true,
   "skip_h1_title": false,
   "title_cell": "Table of Contents",
   "title_sidebar": "Contents",
   "toc_cell": false,
   "toc_position": {},
   "toc_section_display": true,
   "toc_window_display": false
  }
 },
 "nbformat": 4,
 "nbformat_minor": 5
}
